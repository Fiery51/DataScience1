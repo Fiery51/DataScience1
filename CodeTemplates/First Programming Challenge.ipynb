{
 "cells": [
  {
   "cell_type": "code",
   "execution_count": 13,
   "metadata": {},
   "outputs": [
    {
     "name": "stdout",
     "output_type": "stream",
     "text": [
      "False\n",
      "False\n",
      "False\n",
      "False\n",
      "True\n",
      "False\n",
      "False\n",
      "True\n",
      "True\n",
      "False\n"
     ]
    }
   ],
   "source": [
    "names =  [\"Blackbeard\", \"Anne Bonny\", \"Calico Jack\", \"Cheung Po Tsai\", \"Grace O'Malley\", \"Mary Read\", \"Sayyida al Hurra\", \"Ching Shih\", \"Sir Francis Drake\", \"Jean Lafitte\"]\n",
    "gender = [1, 2, 1, 1, 2, 2, 2, 2, 1, 1,] #1 = Male 2 = female\n",
    "death_age = [40, 24, 37, 39, 73, 36, 75, 69, 56, 46]\n",
    "height = [6.4, 5.6, 5.6, 5.3, 5.0, 5.1, 0, 5.3, 5.5, 6.2] #0 = N/A\n",
    "skull_crossbones = [False, True, True, False, False, True, False, False, False, False]\n",
    "dataset = [names, gender, death_age, height, skull_crossbones]\n",
    "\n",
    "\n",
    "\n",
    "def front_to_back():\n",
    "    for i in range(1,2):\n",
    "        print(dataset[0][-1 + i])\n",
    "        print(dataset[1][-1 + i])\n",
    "        print(dataset[2][-1 + i])\n",
    "        print(dataset[3][-1 + i])\n",
    "        print(dataset[4][-1 + i])\n",
    "\n",
    "def last_column_back_to_front():\n",
    "    for i in range (1, 11):\n",
    "        print(dataset[4][10 - i])\n",
    "\n",
    "\n",
    "def all_row_every_other():\n",
    "    for i in range(1, 11):\n",
    "        print(dataset[0][-1 + i])\n",
    "        print(dataset[2][-1 + i])\n",
    "        print(dataset[4][-1 + i])\n",
    "#---------------------------------------------------------\n",
    "def front_to_back_GPT():\n",
    "    for i in range(len(dataset[0])):\n",
    "        for data in dataset:\n",
    "            print(data[i])\n",
    "\n",
    "def last_column_back_to_front_GPT():\n",
    "    for item in reversed(dataset[4]):\n",
    "        print(item)\n",
    "\n",
    "def all_row_every_other_GPT():\n",
    "    for i in range(len(dataset[0])):\n",
    "        if i % 2 == 0:  # Print every other row\n",
    "            for data in [dataset[0], dataset[2], dataset[4]]:\n",
    "                print(data[i])\n",
    "\n",
    "\n"
   ]
  }
 ],
 "metadata": {
  "kernelspec": {
   "display_name": "base",
   "language": "python",
   "name": "python3"
  },
  "language_info": {
   "codemirror_mode": {
    "name": "ipython",
    "version": 3
   },
   "file_extension": ".py",
   "mimetype": "text/x-python",
   "name": "python",
   "nbconvert_exporter": "python",
   "pygments_lexer": "ipython3",
   "version": "3.11.4"
  },
  "orig_nbformat": 4
 },
 "nbformat": 4,
 "nbformat_minor": 2
}

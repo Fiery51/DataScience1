{
 "cells": [
  {
   "cell_type": "code",
   "execution_count": 84,
   "metadata": {},
   "outputs": [],
   "source": [
    "import pandas as pd"
   ]
  },
  {
   "cell_type": "code",
   "execution_count": 85,
   "metadata": {},
   "outputs": [],
   "source": [
    "# Read the CSV file into a DataFrame\n",
    "df = pd.read_csv(\"pirates.csv\")\n",
    "\n",
    "df2 = pd.read_csv(\"PirateNewRow.csv\")\n",
    "#17 Columns, 1000 rows\n",
    "\n",
    "df3 = pd.read_csv(\"PirateNewColumn.csv\")"
   ]
  },
  {
   "cell_type": "code",
   "execution_count": 86,
   "metadata": {},
   "outputs": [
    {
     "name": "stdout",
     "output_type": "stream",
     "text": [
      "Column 'age' has null values in the following rows:\n",
      "Row 34\n",
      "Column 'headband' has null values in the following rows:\n",
      "Row 1000\n",
      "Column 'favorite.pirate' has null values in the following rows:\n",
      "Row 635\n",
      "Column 'sword.time' has null values in the following rows:\n",
      "Row 137\n"
     ]
    }
   ],
   "source": [
    "# print(df['parrots'].info)\n",
    "\n",
    "# print(df['parrots'].dtype)\n",
    "\n",
    "for column in df.columns:\n",
    "    # Iterate through rows and check for null values\n",
    "    for index, value in enumerate(df[column]):\n",
    "        if pd.isnull(value):\n",
    "            print(f\"Column '{column}' has null values in the following rows:\")\n",
    "            print(f\"Row {index + 1}\")\n",
    "\n",
    "df.fillna(0, inplace=True)"
   ]
  },
  {
   "cell_type": "code",
   "execution_count": 87,
   "metadata": {},
   "outputs": [
    {
     "name": "stdout",
     "output_type": "stream",
     "text": [
      "male      490\n",
      "female    464\n",
      "other      46\n",
      "Name: sex, dtype: int64\n"
     ]
    }
   ],
   "source": [
    "for values in df['sex']:\n",
    "    count = df['sex'].value_counts()\n",
    "    \n",
    "print(str(count))"
   ]
  },
  {
   "cell_type": "code",
   "execution_count": 88,
   "metadata": {},
   "outputs": [
    {
     "name": "stdout",
     "output_type": "stream",
     "text": [
      "27.33\n"
     ]
    }
   ],
   "source": [
    "#average age of pirate\n",
    "age = 0\n",
    "average_age = 0\n",
    "count = 0\n",
    "for value in df['age']:\n",
    "    age += value\n",
    "    count += 1\n",
    "average_age = age/count\n",
    "print(average_age)"
   ]
  },
  {
   "cell_type": "code",
   "execution_count": 89,
   "metadata": {},
   "outputs": [
    {
     "name": "stdout",
     "output_type": "stream",
     "text": [
      "28.131147540983605\n"
     ]
    }
   ],
   "source": [
    "age_ = 0\n",
    "average_age_ = 0\n",
    "count_ = 0\n",
    "\n",
    "for index, gender in enumerate(df['sex']):\n",
    "    if gender == \"female\":\n",
    "        age += df.loc[index, 'age']\n",
    "        count += 1\n",
    "average_age = age/count\n",
    "print(average_age)"
   ]
  },
  {
   "cell_type": "code",
   "execution_count": 90,
   "metadata": {},
   "outputs": [
    {
     "name": "stdout",
     "output_type": "stream",
     "text": [
      "Percentage of pirarates under 100 pounds: 0.8%\n"
     ]
    }
   ],
   "source": [
    "count_weight = 0\n",
    "\n",
    "for index, weight in enumerate(df['weight']):\n",
    "    if weight <= 45.36:\n",
    "        count_weight += 1\n",
    "count_weight /= len(df['weight'])\n",
    "count_weight *= 100\n",
    "print(\"Percentage of pirarates under 100 pounds: \" + str(count_weight) + \"%\")"
   ]
  },
  {
   "cell_type": "code",
   "execution_count": 91,
   "metadata": {},
   "outputs": [
    {
     "name": "stdout",
     "output_type": "stream",
     "text": [
      "The smallest pirate is 129.83 (ID: 39)\n"
     ]
    }
   ],
   "source": [
    "min_weight_index = df['height'].idxmin()\n",
    "\n",
    "# Get the corresponding ID value for the smallest weight\n",
    "min_height = df['height'].min()  # Get the smallest weight directly\n",
    "min_height_id = df.loc[df['height'] == min_height, 'id'].values[0]\n",
    "\n",
    "print(f\"The smallest pirate is {min_height} (ID: {min_height_id})\")"
   ]
  },
  {
   "cell_type": "code",
   "execution_count": 92,
   "metadata": {},
   "outputs": [
    {
     "name": "stdout",
     "output_type": "stream",
     "text": [
      "The largest weight is 105.6 (ID: 2)\n"
     ]
    }
   ],
   "source": [
    "max_weight_index = df['weight'].idxmin()\n",
    "\n",
    "# Get the corresponding ID value for the smallest weight\n",
    "max_weight = df['weight'].max()  # Get the smallest weight directly\n",
    "max_weight_id = df.loc[df['weight'] == max_weight, 'id'].values[0]\n",
    "\n",
    "print(f\"The largest weight is {max_weight} (ID: {max_weight_id})\")"
   ]
  },
  {
   "cell_type": "code",
   "execution_count": 93,
   "metadata": {},
   "outputs": [
    {
     "name": "stdout",
     "output_type": "stream",
     "text": [
      "Most Common: Inside Out\n"
     ]
    }
   ],
   "source": [
    "mode_result = df['fav.pixar'].mode()\n",
    "print(\"Most Common:\", mode_result[0])"
   ]
  },
  {
   "cell_type": "code",
   "execution_count": 94,
   "metadata": {},
   "outputs": [
    {
     "name": "stdout",
     "output_type": "stream",
     "text": [
      "0.658\n",
      "1.0\n"
     ]
    }
   ],
   "source": [
    "average_eye_patch = df['eyepatch'].mean()\n",
    "middle_eyepatch = df['eyepatch'].median()\n",
    "\n",
    "print(average_eye_patch)\n",
    "print(middle_eyepatch)\n"
   ]
  },
  {
   "cell_type": "code",
   "execution_count": 95,
   "metadata": {},
   "outputs": [],
   "source": [
    "#Combine data sets\n",
    "#combined_df = df.append(df2, ignore_index=True)\n",
    "combined_df = pd.concat([df, df2], ignore_index=True)\n"
   ]
  },
  {
   "cell_type": "code",
   "execution_count": 96,
   "metadata": {},
   "outputs": [
    {
     "name": "stdout",
     "output_type": "stream",
     "text": [
      "      id     sex   age  height  weight headband college  tattoos  tchests  \\\n",
      "0      1    male  28.0  173.11    70.5      yes   JSSFP        9        0   \n",
      "1      2    male  31.0  209.25   105.6      yes   JSSFP        9       11   \n",
      "2      3    male  26.0  169.95    77.1      yes    CCCC       10       10   \n",
      "3      4  female  31.0  144.29    58.5       no   JSSFP        2        0   \n",
      "4      5  female  41.0  157.85    58.4      yes   JSSFP        9        6   \n",
      "..   ...     ...   ...     ...     ...      ...     ...      ...      ...   \n",
      "994  995    male  34.0  172.45    75.0      yes   JSSFP        9       18   \n",
      "995  996    male  26.0  178.83    70.8      yes    CCCC       14       11   \n",
      "996  997  female  34.0  157.20    53.6      yes   JSSFP       13       48   \n",
      "997  998    male  36.0  175.74    72.4      yes   JSSFP        9       95   \n",
      "998  999    male  30.0  175.24    70.2      yes   JSSFP        9        6   \n",
      "\n",
      "    parrots favorite.pirate sword.type  eyepatch  sword.time  beard.length  \\\n",
      "0         0    Jack Sparrow    cutlass         1        0.58            16   \n",
      "1         0    Jack Sparrow    cutlass         0        1.11            21   \n",
      "2         1    Jack Sparrow    cutlass         1        1.44            19   \n",
      "3         2    Jack Sparrow   scimitar         1       36.11             2   \n",
      "4         4            Hook    cutlass         1        0.11             0   \n",
      "..      ...             ...        ...       ...         ...           ...   \n",
      "994      16    Jack Sparrow    cutlass         1        0.16            18   \n",
      "995       2    Jack Sparrow    cutlass         0        0.46            20   \n",
      "996       2            Hook    cutlass         0        0.15             0   \n",
      "997      14    Jack Sparrow    cutlass         1        1.28            18   \n",
      "998       0      Lewis Scot    cutlass         1        0.21            24   \n",
      "\n",
      "           fav.pixar  grogg     favorite.sea  \n",
      "0     Monsters, Inc.     11      Caspian Sea  \n",
      "1             WALL-E      9          Red Sea  \n",
      "2         Inside Out      7      Chilean Sea  \n",
      "3         Inside Out      9       Bering Sea  \n",
      "4         Inside Out     14     Labrador Sea  \n",
      "..               ...    ...              ...  \n",
      "994      Toy Story 3     10      Barents Sea  \n",
      "995               Up     13       Baltic Sea  \n",
      "996     Finding Nemo      8  South China Sea  \n",
      "997  The Incredibles     11      Celebes Sea  \n",
      "998       Inside Out     10     Labrador Sea  \n",
      "\n",
      "[999 rows x 18 columns]\n"
     ]
    }
   ],
   "source": [
    "\n",
    "\n",
    "combined_df = df.merge(df3, on='id')\n",
    "print(combined_df)"
   ]
  },
  {
   "cell_type": "code",
   "execution_count": null,
   "metadata": {},
   "outputs": [],
   "source": []
  }
 ],
 "metadata": {
  "kernelspec": {
   "display_name": "base",
   "language": "python",
   "name": "python3"
  },
  "language_info": {
   "codemirror_mode": {
    "name": "ipython",
    "version": 3
   },
   "file_extension": ".py",
   "mimetype": "text/x-python",
   "name": "python",
   "nbconvert_exporter": "python",
   "pygments_lexer": "ipython3",
   "version": "3.11.4"
  },
  "orig_nbformat": 4
 },
 "nbformat": 4,
 "nbformat_minor": 2
}
